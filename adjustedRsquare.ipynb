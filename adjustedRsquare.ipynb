{
  "nbformat": 4,
  "nbformat_minor": 0,
  "metadata": {
    "colab": {
      "name": "adjustedRsquare.ipynb",
      "provenance": [],
      "collapsed_sections": [],
      "authorship_tag": "ABX9TyMg0z8TmR7fycalQmGCxMEn",
      "include_colab_link": true
    },
    "kernelspec": {
      "name": "python3",
      "display_name": "Python 3"
    }
  },
  "cells": [
    {
      "cell_type": "markdown",
      "metadata": {
        "id": "view-in-github",
        "colab_type": "text"
      },
      "source": [
        "<a href=\"https://colab.research.google.com/github/Devan5622/ml-from-scratch/blob/master/adjustedRsquare.ipynb\" target=\"_parent\"><img src=\"https://colab.research.google.com/assets/colab-badge.svg\" alt=\"Open In Colab\"/></a>"
      ]
    },
    {
      "cell_type": "code",
      "metadata": {
        "colab": {
          "base_uri": "https://localhost:8080/"
        },
        "id": "FT-r_1z04QeR",
        "outputId": "ee25367f-b821-4e61-f37f-75284556aab7"
      },
      "source": [
        "import numpy as np\n",
        "\n",
        "X=np.array([3,5,4,5,4,4,5,5,3,3])\n",
        "Y=np.array([3,5,3,4,4,4,4,5,3,3])\n",
        "\n",
        "def mse(actual, predicted):\n",
        "    return np.mean(np.square(actual-predicted))\n",
        "\n",
        "e1=mse(X,Y)\n",
        "print(e1)\n",
        "def rmse(actual, predicted):\n",
        "    return np.sqrt(np.mean(np.square(actual-predicted)))\n",
        "e2=rmse(X,Y)\n",
        "print(e2)\n",
        "\n",
        "\n",
        "def mae(actual, predicted):\n",
        "    return np.mean(np.abs(actual-predicted))\n",
        "e3=mae(X,Y)\n",
        "print(e3)\n",
        "\n",
        "\n",
        "def mape(actual, predicted):\n",
        "    return np.mean(np.abs((actual - predicted) / actual)) * 100\n",
        "e4=mape(X,Y)\n",
        "print(e4)\n",
        "\n",
        "def rae(actual, predicted):\n",
        "    numerator = np.sum(np.abs(predicted - actual))\n",
        "    denominator = np.sum(np.abs(np.mean(actual) - actual))\n",
        "    return numerator / denominator\n",
        "e5=rae(X,Y)\n",
        "print(e5)\n",
        "\n",
        "def r_squared(actual, predicted):\n",
        "    sse = np.sum(np.square(actual-predicted))\n",
        "    sst = np.sum(np.square(actual-np.mean(actual)))\n",
        "    return 1 - (sse/sst)\n",
        "e6=r_squared(X,Y)\n",
        "print(e6)\n",
        "\n",
        "def adj_r_squared(actual, predicted,nv): #nv is no of variables\n",
        "    r_squ = r_squared(actual, predicted)\n",
        "    numerator = (1 - r_squ) * len(actual)-1\n",
        "    denominator = len(actual) - nv-1\n",
        "    a_r_squared=1-numerator/denominator\n",
        "    return a_r_squared\n",
        "e7=adj_r_squared(X,Y,5)\n",
        "print(e7)\n",
        "\n",
        "def median_abs_error(actual, predicted):\n",
        "    return (np.median(np.abs(actual - predicted)))\n",
        "e8=median_abs_error(X,Y)\n",
        "print(e8)\n",
        " \n",
        "import numpy as np\n",
        "X=np.array([[1, 110, 40],[1, 120, 30],[1, 100, 20],[1, 90, 0],[1, 80,10]])\n",
        "Y=np.array([100,90,80,70,60])\n",
        "X1=X.transpose()\n",
        "print(X1)\n",
        "X2=X1.dot(X)\n",
        "print(X2)\n",
        "X3=np.linalg.inv(X2)\n",
        "print(X3)\n",
        "B=X3.dot((X1.dot(Y)))\n",
        "print(B)\n",
        " "
      ],
      "execution_count": 11,
      "outputs": [
        {
          "output_type": "stream",
          "text": [
            "0.3\n",
            "0.5477225575051661\n",
            "0.3\n",
            "6.5\n",
            "0.4166666666666667\n",
            "0.5652173913043479\n",
            "0.16304347826086962\n",
            "0.0\n",
            "[[  1   1   1   1   1]\n",
            " [110 120 100  90  80]\n",
            " [ 40  30  20   0  10]]\n",
            "[[    5   500   100]\n",
            " [  500 51000 10800]\n",
            " [  100 10800  3000]]\n",
            "[[ 2.02000000e+01 -2.33333333e-01  1.66666667e-01]\n",
            " [-2.33333333e-01  2.77777778e-03 -2.22222222e-03]\n",
            " [ 1.66666667e-01 -2.22222222e-03  2.77777778e-03]]\n",
            "[20.   0.5  0.5]\n"
          ],
          "name": "stdout"
        }
      ]
    }
  ]
}
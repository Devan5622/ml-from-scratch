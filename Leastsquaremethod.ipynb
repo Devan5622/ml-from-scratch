{
  "nbformat": 4,
  "nbformat_minor": 0,
  "metadata": {
    "colab": {
      "name": "Leastsquaremethod.ipynb",
      "provenance": [],
      "authorship_tag": "ABX9TyNO/6m/n4bgS2Xq2Wdth16w",
      "include_colab_link": true
    },
    "kernelspec": {
      "name": "python3",
      "display_name": "Python 3"
    }
  },
  "cells": [
    {
      "cell_type": "markdown",
      "metadata": {
        "id": "view-in-github",
        "colab_type": "text"
      },
      "source": [
        "<a href=\"https://colab.research.google.com/github/Devan5622/ml-from-scratch/blob/master/Leastsquaremethod.ipynb\" target=\"_parent\"><img src=\"https://colab.research.google.com/assets/colab-badge.svg\" alt=\"Open In Colab\"/></a>"
      ]
    },
    {
      "cell_type": "code",
      "metadata": {
        "colab": {
          "base_uri": "https://localhost:8080/"
        },
        "id": "Y6GhiVUF4Lza",
        "outputId": "c3872225-beea-4ca2-ec89-4ae0ff7aaa65"
      },
      "source": [
        "import numpy as np\n",
        "X=np.array([[1,7,5],[1,3,7],[1,5,8],[1,8,1],[1,9,3],[1,5,4],[1,4,0],[1,2,6],[1,8,7],[1,6,4],[1,9,2]])\n",
        "Y=np.array([65,38,51,38,55,43,25,33,71,51,49])\n",
        "X1=X.transpose()\n",
        "X2=X1.dot(X)\n",
        "X3=np.linalg.inv(X2)\n",
        "B=X3.dot((X1.dot(Y)))\n",
        "print(B)"
      ],
      "execution_count": 6,
      "outputs": [
        {
          "output_type": "stream",
          "text": [
            "[1.75140366 4.89528836 3.75841548]\n"
          ],
          "name": "stdout"
        }
      ]
    }
  ]
}